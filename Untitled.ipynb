{
 "cells": [
  {
   "cell_type": "markdown",
   "id": "fb3c31ad",
   "metadata": {},
   "source": [
    "\n",
    "Problemas:\n",
    " Problema de Transporte: (Referencia: Hitchcock, 1941; Kantorovich, 1942; Koopmans 1947). (Investigación de operaciones, 2015)\n",
    "El problema consiste en decidir cuántas unidades trasladar desde ciertos puntos de origen (platas, ciudades, etc) a ciertos puntos de destino (centros de distribución, ciudades, etc) de modo de minimizar los costos de transporte, dada la oferta y demanda en dichos puntos. Se suponen conocidos los costos unitarios de transporte, los requerimientos de demanda y la oferta disponible.\n",
    "Por ejemplo, suponga que una empresa posee dos plantas que elaboran un determinado producto en cantidades de 250 y 400 unidades diarias, respectivamente. Dichas unidades deben ser trasladadas a tres centros de distribución con demandas diarias de 200, 200 y 250 unidades, respectivamente. Los costos de transporte (en $/unidad). Se requiere formular un modelo de Programación Lineal que permita satisfacer los requerimientos de demanda al mínimo costo.\n",
    "Variables de Decisión:\n",
    "Xij: Unidades transportadas desde la planta i (i=1, 2) hasta el centro de distribución j (j=1, 2, 3)\n",
    "Función Objetivo: Minimizar el costo de transporte entre las plantas y los centros de distribución dado por:\n",
    "Minimizar 21X11 + 25X12 + 15X13 + 28X21 + 13X22 + 19X23\n",
    "Restricciones:\n",
    "Satisfacer los requerimientos de Demanda de los Centros de Distribución:\n",
    "X11+ X21 = 200\n",
    "X12 + X22 = 200\n",
    "X13 + X23 = 250\n",
    "Sujeto a la Oferta o Capacidad de Producción de las Plantas:\n",
    "X11+ X12 + X13 = 250\n",
    "X21 + X22+ X23 = 400\n",
    "No Negatividad:\n",
    "Xij>= 0   i=1,2 y j=1,2,3\n",
    "El siguiente diagrama permite una visualización de la situación anterior:\n",
    "A continuación, una descripción de la implementación computacional y resolución del problema anterior utilizando el complemento Solver de Microsoft Excel:\n",
    "1Abrir una Planilla de Cálculo de Excel. Asegúrese de tener instalado el complemento Solver. Luego construya una planilla como la de la imagen de referencia. Se han marcado con amarillo las celdas cambiantes (variables de decisión) y con color azul la celda de la función objetivo.\n",
    "Notar que algunas celdas en la imagen anterior consideran fórmulas:\n",
    "F7=SUMA(C7:E7)\n",
    "F8=SUMA(C7:E7)\n",
    "C9=SUMA(C7:C8)\n",
    "D9=SUMA(D7:D8)\n",
    "E9=SUMA(E7:E8)\n",
    "2. Ingrese la función objetivo, celdas cambiantes y restricciones en la ventana de Parámetros de Solver.  Seleccione también la opción Convertir variables sin restricciones en no negativas. Si utiliza la mismas celdas de la imagen anterior, usted debería obtener lo siguiente:\n",
    "3. Seleccione Resolver. Obtendrá la solución al problema y podrá requerir los Informes de Solver. Finalmente presione Aceptar para obtener el o los informes de interés.\n",
    "Finalmente, se obtienen los informes de confiabilidad (o sensibilidad) los cuales entregan información relevante en cuanto a los precios sombra asociados a las restricciones, intervalos de variación de garantizan la validez del precio sombra, intervalo de variación para los coeficientes de la función objetivo, etc. (Patricia del V. CUADROS, 2003)\n",
    "\n"
   ]
  },
  {
   "cell_type": "markdown",
   "id": "42e78bd0",
   "metadata": {},
   "source": [
    "2.- Debido a las condiciones impuestas del problema, siempre tendremos que cumplir con mantenernos dentro de un rango. Lo cual garantiza matemáticamente que tendremos máximos o mínimos. Un ejemplo es, si nos piden fabricar al menos 10 envases y gastar el mínimo posible, la respuesta no puede ser algo menor a esos 10 envases, por lo que no puede haber un mínimo sin definir. \n",
    "3.- La importancia de tener un máximo o un mínimo global garantizado nos mantiene con la certeza de que en algún punto la combinación de los distintos factores será la máxima/mínima (en función de lo que busquemos). Por lo tanto podremos determinar con exactitud cual es la mejor manera de utilizar los distintos factores de la mejor forma matemáticamente posible, al tiempo que cumplimos con las posibles condiciones iniciales impuestas.\n",
    "4.- Para resolver problemas de optimización necesitamos que las filas y columnas sean linealmente independientes. \n",
    "Referencias\n",
    "Investigación de operaciones. (6 de mayo de 2015). Obtenido de https://www.investigacionoperativa.com/programacion_lineal.html\n",
    "Patricia del V. CUADROS, C. E. (noviembre de 2003). APLICACIÓN DE PROGRAMACIÓN LINEAL A LA INGENIERÍA. Obtenido de https://cimec.org.ar/ojs/index.php/mc/article/viewFile/748/708"
   ]
  },
  {
   "cell_type": "markdown",
   "id": "f544460f",
   "metadata": {},
   "source": [
    "Rodolfo Magdaleno, Ingeniería Civil\n",
    "Programación Lineal"
   ]
  },
  {
   "cell_type": "code",
   "execution_count": null,
   "id": "8a42e43d",
   "metadata": {},
   "outputs": [],
   "source": []
  }
 ],
 "metadata": {
  "kernelspec": {
   "display_name": "Python 3 (ipykernel)",
   "language": "python",
   "name": "python3"
  },
  "language_info": {
   "codemirror_mode": {
    "name": "ipython",
    "version": 3
   },
   "file_extension": ".py",
   "mimetype": "text/x-python",
   "name": "python",
   "nbconvert_exporter": "python",
   "pygments_lexer": "ipython3",
   "version": "3.9.13"
  }
 },
 "nbformat": 4,
 "nbformat_minor": 5
}
