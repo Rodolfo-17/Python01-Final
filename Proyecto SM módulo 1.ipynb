{
 "cells": [
  {
   "cell_type": "markdown",
   "id": "3c6204bb",
   "metadata": {},
   "source": [
    "# Proyecto módulo 1"
   ]
  },
  {
   "cell_type": "markdown",
   "id": "5adcedc8",
   "metadata": {},
   "source": [
    "\n",
    "## Programación Lineal\n",
    "\n",
    "## Optimización nuevo edificio del ITESO\n",
    "\n",
    "### Nombres\n",
    "### 06/03/2023"
   ]
  },
  {
   "cell_type": "markdown",
   "id": "791529e5",
   "metadata": {},
   "source": [
    "### Problema:"
   ]
  },
  {
   "cell_type": "markdown",
   "id": "d78d94b7",
   "metadata": {},
   "source": [
    "El ITESO quiere construir un nuevo edificio. Contactan a una constructora, y les dan indicaciones para que el gasto sea lo menor posible. Ahora están tratando la parte de los pilares que sostienen el edificio. **La universidad pide pilares de 3m , 5m y 7m**, y que los pilares sean de acero o de concreto.\n",
    "Cada metro de acero o concreto representa un kilo del mismo. \n",
    "El kilo de acero cuesta $\\$35$, mientras que el kilo de concreto cuesta $\\$45$."
   ]
  },
  {
   "cell_type": "markdown",
   "id": "2f72b2c0",
   "metadata": {},
   "source": [
    "Para construir el edificio, se requieren máximo 25 pilares de 3m, y por lo menos 10 pilares de 5m. El ITESO dice que entre todos los pilares no deben ser más de 20 hechos de acero. En total deben de ser 50 pilares"
   ]
  },
  {
   "cell_type": "markdown",
   "id": "43591b6a",
   "metadata": {},
   "source": [
    "### Paso 1. Criterio de optimización:\n",
    "Hay que minimizar el gasto dirigido a la construcción de los pilares."
   ]
  },
  {
   "cell_type": "markdown",
   "id": "cfb3fb04",
   "metadata": {},
   "source": [
    "### Paso 2. Variables que afectan mi criterio de optimización y tengo control:\n",
    "Cantidad de columnas que utilizo según su tamaño y su material. \n",
    "- Tamaño $A = 3.0m $\n",
    "- Tamaño $B = 5.0m $\n",
    "- Tamaño $C = 7.0m $\n",
    "- Material $D = $ acero \n",
    "- Material $E = $ concreto \n",
    "$$ f(x_{AD}, x_{AE}, x_{BD}, x_{BE}, x_{CD}, x_{CE}) $$"
   ]
  },
  {
   "cell_type": "markdown",
   "id": "8f651e10",
   "metadata": {},
   "source": [
    "### Paso 3. Función de costo:\n",
    "$$ f(x_{AD}...x_{CE}) = 105x_{AD} + 135x_{AE} + 175x_{BD} + 225x_{BE} + 245x_{CD} + 315x_{CE} $$"
   ]
  },
  {
   "cell_type": "markdown",
   "id": "6bae257b",
   "metadata": {},
   "source": [
    "### Paso 4. Restricciones:\n",
    "Restricciones de material:\n",
    "$$ x_{AD} + x_{BD} + x_{CD} \\leq 20 $$\n",
    "\n",
    "Restricciones de tamaño:\n",
    "$$ x_{AD} + x_{AE} \\leq 25 $$\n",
    "$$ x_{BD} + x_{BE} \\geq 10 $$\n",
    "\n",
    "Total:\n",
    "$$ x_{AD} + x_{AE} + x_{BD} + x_{BE} + x_{CD} + x_{CE} = 50 $$"
   ]
  },
  {
   "cell_type": "code",
   "execution_count": 1,
   "id": "3b9bfae1",
   "metadata": {},
   "outputs": [],
   "source": [
    "import scipy.optimize as opt\n",
    "import numpy as np"
   ]
  },
  {
   "cell_type": "code",
   "execution_count": 3,
   "id": "02b19257",
   "metadata": {},
   "outputs": [
    {
     "data": {
      "text/plain": [
       "           con: array([], dtype=float64)\n",
       " crossover_nit: 0\n",
       "         eqlin:  marginals: array([], dtype=float64)\n",
       "  residual: array([], dtype=float64)\n",
       "           fun: 1750.0\n",
       "       ineqlin:  marginals: array([  -0.,   -0., -175.,   -0.])\n",
       "  residual: array([10., 25.,  0., 40.])\n",
       "         lower:  marginals: array([105., 135.,   0.,  50., 245., 315.])\n",
       "  residual: array([ 0.,  0., 10.,  0.,  0.,  0.])\n",
       "       message: 'Optimization terminated successfully. (HiGHS Status 7: Optimal)'\n",
       "           nit: 1\n",
       "         slack: array([10., 25.,  0., 40.])\n",
       "        status: 0\n",
       "       success: True\n",
       "         upper:  marginals: array([0., 0., 0., 0., 0., 0.])\n",
       "  residual: array([inf, inf, inf, inf, inf, inf])\n",
       "             x: array([ 0.,  0., 10.,  0.,  0.,  0.])"
      ]
     },
     "execution_count": 3,
     "metadata": {},
     "output_type": "execute_result"
    }
   ],
   "source": [
    "c = np.array([105,\n",
    "              135,\n",
    "              175,\n",
    "              225, \n",
    "              245,\n",
    "              315\n",
    "             ])\n",
    "\n",
    "Aub = np.array([[1, 0, 1, 0, 1, 0],\n",
    "                [1, 1, 0, 0, 0, 0],\n",
    "                [0, 0, -1, -1, 0, 0],\n",
    "                [1, 1, 1, 1, 1, 1]\n",
    "               ])\n",
    "\n",
    "bub = np.array([20,\n",
    "                25,\n",
    "                -10,\n",
    "                50\n",
    "               ])\n",
    "\n",
    "\n",
    "opt.linprog (c, Aub, bub)"
   ]
  },
  {
   "cell_type": "code",
   "execution_count": null,
   "id": "1e3f0871",
   "metadata": {},
   "outputs": [],
   "source": []
  },
  {
   "cell_type": "code",
   "execution_count": null,
   "id": "9c88c179",
   "metadata": {},
   "outputs": [],
   "source": []
  }
 ],
 "metadata": {
  "kernelspec": {
   "display_name": "Python 3 (ipykernel)",
   "language": "python",
   "name": "python3"
  },
  "language_info": {
   "codemirror_mode": {
    "name": "ipython",
    "version": 3
   },
   "file_extension": ".py",
   "mimetype": "text/x-python",
   "name": "python",
   "nbconvert_exporter": "python",
   "pygments_lexer": "ipython3",
   "version": "3.9.13"
  }
 },
 "nbformat": 4,
 "nbformat_minor": 5
}
